{
  "cells": [
    {
      "cell_type": "code",
      "execution_count": null,
      "metadata": {
        "id": "kBO1_sDSuT22"
      },
      "outputs": [],
      "source": [
        "import pandas as pd\n",
        "import numpy as np\n",
        "from sklearn.preprocessing import LabelEncoder\n",
        "stud = pd.read_csv(\"data2.csv\")\n",
        "stud"
      ]
    },
    {
      "cell_type": "code",
      "execution_count": null,
      "metadata": {
        "colab": {
          "base_uri": "https://localhost:8080/"
        },
        "id": "CC4Z3wvPydU8",
        "outputId": "75d0f211-34f9-4e8d-e462-3b4462851b01"
      },
      "outputs": [],
      "source": [
        "stud.isnull().sum()"
      ]
    },
    {
      "cell_type": "code",
      "execution_count": null,
      "metadata": {},
      "outputs": [],
      "source": [
        "stud['writing score'].mean()\n"
      ]
    },
    {
      "cell_type": "code",
      "execution_count": null,
      "metadata": {},
      "outputs": [],
      "source": [
        "series = pd.isnull(stud[\"math score\"])\n",
        "stud[series]"
      ]
    },
    {
      "cell_type": "code",
      "execution_count": null,
      "metadata": {},
      "outputs": [],
      "source": [
        "series1 = pd.notnull(stud[\"math score\"])\n",
        "stud[series1]"
      ]
    },
    {
      "cell_type": "code",
      "execution_count": null,
      "metadata": {},
      "outputs": [],
      "source": [
        "from sklearn.preprocessing import LabelEncoder\n",
        "le = LabelEncoder()\n",
        "stud['gender'] = le.fit_transform(stud['gender'])\n",
        "newstud=stud\n",
        "stud"
      ]
    },
    {
      "cell_type": "code",
      "execution_count": null,
      "metadata": {},
      "outputs": [],
      "source": [
        "missing_values = [\"Na\", \"na\",\" \"]\n",
        "stud = pd.read_csv(\"data2.csv\", na_values = missing_values)\n",
        "stud"
      ]
    },
    {
      "cell_type": "code",
      "execution_count": null,
      "metadata": {},
      "outputs": [],
      "source": [
        "nstud=stud\n",
        "nstud.fillna(0)\n",
        "nstud"
      ]
    },
    {
      "cell_type": "code",
      "execution_count": null,
      "metadata": {},
      "outputs": [],
      "source": [
        "stud['reading score'] = stud['reading score'].fillna(stud['reading score'].mean())\n",
        "stud"
      ]
    },
    {
      "cell_type": "code",
      "execution_count": null,
      "metadata": {},
      "outputs": [],
      "source": [
        "stud['math score'] = stud['math score'].fillna(stud['math score'].mean())\n",
        "stud"
      ]
    },
    {
      "cell_type": "code",
      "execution_count": null,
      "metadata": {
        "id": "8wDU80lt0kDL"
      },
      "outputs": [],
      "source": [
        "stud['writing score']= stud['writing score'].fillna(stud['writing score'].mean())\n",
        "stud"
      ]
    },
    {
      "cell_type": "code",
      "execution_count": null,
      "metadata": {
        "id": "NV-uyJP807vv"
      },
      "outputs": [],
      "source": [
        "stud['Placement Score']= stud['Placement Score'].fillna(stud['Placement Score'].mean())\n",
        "stud"
      ]
    },
    {
      "cell_type": "code",
      "execution_count": null,
      "metadata": {
        "id": "aS6xI30v1L5X"
      },
      "outputs": [],
      "source": [
        "stud['Region']=stud['Region'].replace('na','nashik')\n",
        "stud['Region']=stud['Region'].replace('Na','pune')\n",
        "stud['Region']=stud['Region'].replace(np.nan,'pune')\n",
        "stud"
      ]
    },
    {
      "cell_type": "code",
      "execution_count": null,
      "metadata": {
        "id": "yg7PX0fA2Zx3"
      },
      "outputs": [],
      "source": [
        "le = LabelEncoder()\n",
        "stud['gender'] = le.fit_transform(stud['gender'])"
      ]
    },
    {
      "cell_type": "code",
      "execution_count": null,
      "metadata": {
        "colab": {
          "base_uri": "https://localhost:8080/",
          "height": 332
        },
        "id": "DGOyeD6h3DCn",
        "outputId": "fc3e8a64-26ea-45d5-ce18-d44ab0c22bf4"
      },
      "outputs": [],
      "source": [
        "newstud = stud\n",
        "newstud"
      ]
    },
    {
      "cell_type": "code",
      "execution_count": null,
      "metadata": {
        "id": "uokSVxWX4s7H"
      },
      "outputs": [],
      "source": [
        "import seaborn as sns\n",
        "import matplotlib.pyplot as plt\n"
      ]
    },
    {
      "cell_type": "code",
      "execution_count": null,
      "metadata": {
        "id": "nqVL8qpZ4ZM_"
      },
      "outputs": [],
      "source": [
        "df = pd.read_csv('data22.csv')"
      ]
    },
    {
      "cell_type": "code",
      "execution_count": null,
      "metadata": {
        "colab": {
          "base_uri": "https://localhost:8080/"
        },
        "id": "isXYkeFE4sE4",
        "outputId": "bb93f822-9fd4-4a2d-b7d1-7fab84384694"
      },
      "outputs": [],
      "source": [
        "df.isnull().sum()"
      ]
    },
    {
      "cell_type": "code",
      "execution_count": null,
      "metadata": {
        "id": "_BuK-cqG5hh6"
      },
      "outputs": [],
      "source": [
        "columns =['math score' ,'reading score','writing score','placement score']"
      ]
    },
    {
      "cell_type": "code",
      "execution_count": null,
      "metadata": {
        "colab": {
          "base_uri": "https://localhost:8080/",
          "height": 282
        },
        "id": "WWiPb3pp56vU",
        "outputId": "9615c657-7fce-4066-931a-f5b55b7cbdbe"
      },
      "outputs": [],
      "source": [
        "df.boxplot(columns)"
      ]
    },
    {
      "cell_type": "code",
      "execution_count": null,
      "metadata": {
        "colab": {
          "base_uri": "https://localhost:8080/"
        },
        "id": "G1QYFS1W5-GZ",
        "outputId": "b1dc3331-389b-4ab3-d791-da7d2b049a1c"
      },
      "outputs": [],
      "source": [
        "print(np.where(df['math score']>90))\n",
        "print(np.where(df['reading score']<25))\n",
        "print(np.where(df['writing score']<30))"
      ]
    },
    {
      "cell_type": "code",
      "execution_count": null,
      "metadata": {
        "colab": {
          "base_uri": "https://localhost:8080/",
          "height": 714
        },
        "id": "axhDmkd-7X9C",
        "outputId": "dc38d3ca-e81f-4647-bb41-4ea3660b57b1"
      },
      "outputs": [],
      "source": [
        "fig ,ax = plt.subplots()\n",
        "ax.scatter(df['placement score'], df['placement offer count'])\n",
        "ax.set_xlabel('placement score')\n",
        "ax.set_ylabel('placement offer count')\n",
        "\n",
        "plt.show()"
      ]
    },
    {
      "cell_type": "code",
      "execution_count": null,
      "metadata": {
        "colab": {
          "base_uri": "https://localhost:8080/"
        },
        "id": "GiKJTdB59trh",
        "outputId": "c2929229-50d4-45e1-84b7-24aa1d332f6e"
      },
      "outputs": [],
      "source": [
        "from scipy import stats\n",
        "z = np.abs(stats.zscore(df['math score']))\n",
        "threshold = 0.20\n",
        "sample_outliers = np.where(z <threshold)\n",
        "sample_outliers"
      ]
    },
    {
      "cell_type": "code",
      "execution_count": null,
      "metadata": {},
      "outputs": [],
      "source": [
        "sorted_rscore= sorted(df['reading score'])\n",
        "sorted_rscore"
      ]
    },
    {
      "cell_type": "code",
      "execution_count": null,
      "metadata": {},
      "outputs": [],
      "source": [
        "q1 = np.percentile(sorted_rscore, 25)"
      ]
    },
    {
      "cell_type": "code",
      "execution_count": null,
      "metadata": {},
      "outputs": [],
      "source": [
        "q3 = np.percentile(sorted_rscore, 75)\n",
        "print(q1,q3)"
      ]
    },
    {
      "cell_type": "code",
      "execution_count": null,
      "metadata": {},
      "outputs": [],
      "source": [
        "IQR = q3-q1"
      ]
    },
    {
      "cell_type": "code",
      "execution_count": null,
      "metadata": {},
      "outputs": [],
      "source": [
        "lwr_bound = q1-(1.5*IQR)\n",
        "upr_bound = q3+(1.5*IQR)\n",
        "print(lwr_bound, upr_bound)"
      ]
    },
    {
      "cell_type": "code",
      "execution_count": null,
      "metadata": {},
      "outputs": [],
      "source": [
        "r_outliers = []\n",
        "for i in sorted_rscore:\n",
        "  if (i<lwr_bound or i>upr_bound):\n",
        "    r_outliers.append(i)\n",
        "print(r_outliers)"
      ]
    }
  ],
  "metadata": {
    "colab": {
      "provenance": []
    },
    "kernelspec": {
      "display_name": "Python 3",
      "name": "python3"
    },
    "language_info": {
      "codemirror_mode": {
        "name": "ipython",
        "version": 3
      },
      "file_extension": ".py",
      "mimetype": "text/x-python",
      "name": "python",
      "nbconvert_exporter": "python",
      "pygments_lexer": "ipython3",
      "version": "3.12.2"
    }
  },
  "nbformat": 4,
  "nbformat_minor": 0
}
