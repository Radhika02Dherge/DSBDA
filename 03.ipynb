{
  "cells": [
    {
      "cell_type": "code",
      "execution_count": null,
      "metadata": {
        "id": "5m70raulT6Ua"
      },
      "outputs": [],
      "source": [
        "import pandas as pd\n",
        "import numpy as np"
      ]
    },
    {
      "cell_type": "code",
      "execution_count": null,
      "metadata": {
        "colab": {
          "base_uri": "https://localhost:8080/",
          "height": 423
        },
        "id": "FlwRGnPJUJSp",
        "outputId": "76ac5a86-1dc4-4d57-cab3-0ea6b68cbf7f"
      },
      "outputs": [],
      "source": [
        "df = pd.read_csv(\"data3.csv\")\n",
        "df"
      ]
    },
    {
      "cell_type": "code",
      "execution_count": null,
      "metadata": {
        "colab": {
          "base_uri": "https://localhost:8080/"
        },
        "id": "_w0UFZ-YUw5K",
        "outputId": "4712806a-27cb-4e1c-937d-51e9e8ed4c1b"
      },
      "outputs": [],
      "source": [
        "df.mean(numeric_only=True)\n"
      ]
    },
    {
      "cell_type": "code",
      "execution_count": null,
      "metadata": {
        "colab": {
          "base_uri": "https://localhost:8080/"
        },
        "id": "YMwd0swbalW8",
        "outputId": "71387890-489f-48da-cf20-bb1410f4f416"
      },
      "outputs": [],
      "source": [
        "df.loc[:,'Age'].mean(numeric_only=True)"
      ]
    },
    {
      "cell_type": "code",
      "execution_count": null,
      "metadata": {
        "colab": {
          "base_uri": "https://localhost:8080/"
        },
        "id": "JeVjjvzpalg5",
        "outputId": "12c0990b-5214-402b-d268-17dbc523c48c"
      },
      "outputs": [],
      "source": [
        "df.mean(axis=1,numeric_only=True)[0:4]"
      ]
    },
    {
      "cell_type": "code",
      "execution_count": null,
      "metadata": {
        "colab": {
          "base_uri": "https://localhost:8080/"
        },
        "id": "upB3fJWlaljp",
        "outputId": "79e8a306-4034-46c3-aa76-b1c55f1f76e5"
      },
      "outputs": [],
      "source": [
        "df.median(numeric_only=True)"
      ]
    },
    {
      "cell_type": "code",
      "execution_count": null,
      "metadata": {
        "colab": {
          "base_uri": "https://localhost:8080/"
        },
        "id": "7q2SSRClalmi",
        "outputId": "5a77671c-7f02-42ed-dd11-137b73216764"
      },
      "outputs": [],
      "source": [
        "df.loc[:,'Age'].median(numeric_only=True)"
      ]
    },
    {
      "cell_type": "code",
      "execution_count": null,
      "metadata": {
        "colab": {
          "base_uri": "https://localhost:8080/"
        },
        "id": "r29J6ZGEalp5",
        "outputId": "91918801-ac2b-457e-dbe7-b682b8153e66"
      },
      "outputs": [],
      "source": [
        "df.median(axis=1,numeric_only=True)[0:4]"
      ]
    },
    {
      "cell_type": "code",
      "execution_count": null,
      "metadata": {
        "colab": {
          "base_uri": "https://localhost:8080/",
          "height": 423
        },
        "id": "aHeBt5Gmaltv",
        "outputId": "258cbc2e-15a0-417b-a24e-b58851039a04"
      },
      "outputs": [],
      "source": [
        "df.mode()"
      ]
    },
    {
      "cell_type": "code",
      "execution_count": null,
      "metadata": {
        "colab": {
          "base_uri": "https://localhost:8080/"
        },
        "id": "UvMAAkKWalwv",
        "outputId": "cb9eaba9-313e-4a5c-e284-cc6187163ba0"
      },
      "outputs": [],
      "source": [
        "df.loc[:,'Age'].mode()"
      ]
    },
    {
      "cell_type": "code",
      "execution_count": null,
      "metadata": {
        "colab": {
          "base_uri": "https://localhost:8080/"
        },
        "id": "N90CuqflcqlM",
        "outputId": "57e4582c-b41d-48e4-8b9e-97ef43f898e8"
      },
      "outputs": [],
      "source": [
        "df.min()"
      ]
    },
    {
      "cell_type": "code",
      "execution_count": null,
      "metadata": {
        "colab": {
          "base_uri": "https://localhost:8080/"
        },
        "id": "QDlhMQ6bcqpn",
        "outputId": "85a0c0b3-16ed-4576-dae2-c8667a00ffee"
      },
      "outputs": [],
      "source": [
        "df.max()"
      ]
    },
    {
      "cell_type": "code",
      "execution_count": null,
      "metadata": {
        "colab": {
          "base_uri": "https://localhost:8080/"
        },
        "id": "tojLSd-ecquW",
        "outputId": "86bcf831-790a-44a4-f73e-d0eb27a2bf58"
      },
      "outputs": [],
      "source": [
        "df.loc[:,'Age'].max()"
      ]
    },
    {
      "cell_type": "code",
      "execution_count": null,
      "metadata": {
        "colab": {
          "base_uri": "https://localhost:8080/"
        },
        "id": "Ax3dM5-acqyg",
        "outputId": "78961a2d-7123-4bb7-bd29-a9da002e59fb"
      },
      "outputs": [],
      "source": [
        "df.std(numeric_only=True)"
      ]
    },
    {
      "cell_type": "code",
      "execution_count": null,
      "metadata": {
        "colab": {
          "base_uri": "https://localhost:8080/"
        },
        "id": "XAN2UjGVcq2P",
        "outputId": "58ca94d6-77ed-4983-f8be-983ca0e23d17"
      },
      "outputs": [],
      "source": [
        "df.loc[:,'Age'].std()"
      ]
    },
    {
      "cell_type": "code",
      "execution_count": null,
      "metadata": {
        "colab": {
          "base_uri": "https://localhost:8080/"
        },
        "id": "Gze9A6jncq51",
        "outputId": "dfb0e9d3-42aa-41c9-99ff-cbe5a016f30d"
      },
      "outputs": [],
      "source": [
        "df.std(axis=1,numeric_only=True)[0:4]"
      ]
    },
    {
      "cell_type": "code",
      "execution_count": null,
      "metadata": {
        "colab": {
          "base_uri": "https://localhost:8080/"
        },
        "id": "5S2Y4DD_c8Lc",
        "outputId": "d9fc1f32-d681-49dd-ffc6-fae839ff8b31"
      },
      "outputs": [],
      "source": [
        "df.groupby(['Genre'])['Age'].mean(numeric_only=True)"
      ]
    },
    {
      "cell_type": "code",
      "execution_count": null,
      "metadata": {
        "colab": {
          "base_uri": "https://localhost:8080/"
        },
        "id": "dcurFoQQc80c",
        "outputId": "de8c7023-3c62-43db-b7ed-dadef400fc62"
      },
      "outputs": [],
      "source": [
        "df_u=df.rename(columns= {'Annual Income (k$)':'Income'},inplace=False)\n",
        "df_u.groupby(['Genre']).Income.mean()"
      ]
    },
    {
      "cell_type": "code",
      "execution_count": null,
      "metadata": {
        "colab": {
          "base_uri": "https://localhost:8080/",
          "height": 423
        },
        "id": "-rKZ0AFQdoto",
        "outputId": "e454a95b-0b54-485d-ec43-4e6990e74977"
      },
      "outputs": [],
      "source": [
        "from sklearn import preprocessing\n",
        "enc = preprocessing.OneHotEncoder()\n",
        "enc_df = pd.DataFrame(enc.fit_transform(df[['Genre']]).toarray())\n",
        "enc_df"
      ]
    },
    {
      "cell_type": "code",
      "execution_count": null,
      "metadata": {
        "colab": {
          "base_uri": "https://localhost:8080/",
          "height": 423
        },
        "id": "dg32B2TNc83u",
        "outputId": "a57bc7d2-6c99-4321-f357-1cb248e391e8"
      },
      "outputs": [],
      "source": [
        "df_encode =df_u.join(enc_df)\n",
        "df_encode"
      ]
    },
    {
      "cell_type": "code",
      "execution_count": null,
      "metadata": {
        "colab": {
          "base_uri": "https://localhost:8080/",
          "height": 423
        },
        "id": "0A3qq6Ovc866",
        "outputId": "14612572-9d3b-43c0-97c8-697aff354f5e"
      },
      "outputs": [],
      "source": [
        "iris = pd.read_csv(\"data33.csv\")\n",
        "iris"
      ]
    },
    {
      "cell_type": "code",
      "execution_count": null,
      "metadata": {
        "id": "iGMve1r0c8-C"
      },
      "outputs": [],
      "source": [
        "irisSet = (iris['Species']== 'Iris-setosa')"
      ]
    },
    {
      "cell_type": "code",
      "execution_count": null,
      "metadata": {
        "colab": {
          "base_uri": "https://localhost:8080/"
        },
        "id": "njaQ8eSEc9A9",
        "outputId": "c1cd8fc0-b153-48ec-9147-776a208cfb5b"
      },
      "outputs": [],
      "source": [
        "print('Iris-setosa')"
      ]
    },
    {
      "cell_type": "code",
      "execution_count": null,
      "metadata": {
        "colab": {
          "base_uri": "https://localhost:8080/"
        },
        "id": "yYsb1teReKpb",
        "outputId": "518389ae-061d-4508-c567-20e7831b9fc9"
      },
      "outputs": [],
      "source": [
        "print(iris[irisSet].describe())"
      ]
    },
    {
      "cell_type": "code",
      "execution_count": null,
      "metadata": {
        "id": "5Y_jlIneeM-a"
      },
      "outputs": [],
      "source": [
        "irisVer = (iris['Species']== 'Iris-versicolor')"
      ]
    },
    {
      "cell_type": "code",
      "execution_count": null,
      "metadata": {
        "colab": {
          "base_uri": "https://localhost:8080/"
        },
        "id": "z3yeJqb4eSn-",
        "outputId": "7528de02-22a2-4796-c300-61f445658642"
      },
      "outputs": [],
      "source": [
        "print('Iris-versicolor')\n",
        "print(iris[irisVer].describe())"
      ]
    },
    {
      "cell_type": "code",
      "execution_count": null,
      "metadata": {
        "id": "xDD8wW9Gebfo"
      },
      "outputs": [],
      "source": [
        "irisVir = (iris['Species']== 'Iris-virginica')"
      ]
    },
    {
      "cell_type": "code",
      "execution_count": null,
      "metadata": {
        "colab": {
          "base_uri": "https://localhost:8080/"
        },
        "id": "kXdKstUeecx_",
        "outputId": "de9130c7-20c0-4395-e88d-2001ae5a5301"
      },
      "outputs": [],
      "source": [
        "print('Iris-virginica')\n",
        "print(iris[irisVir].describe())"
      ]
    }
  ],
  "metadata": {
    "colab": {
      "provenance": []
    },
    "kernelspec": {
      "display_name": "Python 3",
      "name": "python3"
    },
    "language_info": {
      "codemirror_mode": {
        "name": "ipython",
        "version": 3
      },
      "file_extension": ".py",
      "mimetype": "text/x-python",
      "name": "python",
      "nbconvert_exporter": "python",
      "pygments_lexer": "ipython3",
      "version": "3.12.2"
    }
  },
  "nbformat": 4,
  "nbformat_minor": 0
}
